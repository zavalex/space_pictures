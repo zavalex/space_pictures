{
 "cells": [
  {
   "cell_type": "code",
   "execution_count": 1,
   "metadata": {},
   "outputs": [],
   "source": [
    "import skimage\n",
    "import PIL\n",
    "import matplotlib.pyplot as plt"
   ]
  },
  {
   "cell_type": "code",
   "execution_count": 2,
   "metadata": {},
   "outputs": [
    {
     "name": "stdout",
     "output_type": "stream",
     "text": [
      "(512, 512)\n"
     ]
    }
   ],
   "source": [
    "img = skimage.io.imread('../test_files/pgm/ut05/20220408_0500_luck_rego-651_6300.pgm')\n",
    "print(img.shape)\n",
    "plt.imsave('../test_files/pgm/ut05/20220408_0500_luck_rego-651_6300.png', img, cmap='gray', vmax=1000)"
   ]
  },
  {
   "cell_type": "code",
   "execution_count": 7,
   "metadata": {},
   "outputs": [
    {
     "name": "stdout",
     "output_type": "stream",
     "text": [
      "Could not find a backend to open `<gzip _io.BufferedReader name='../test_files/pgm/01/01/20220101_2219_talo_rego-657_6300_dark.pgm.gz' 0x7ff4e75c2ac0>`` with iomode `ri`.\n"
     ]
    }
   ],
   "source": [
    "import gzip\n",
    "import os\n",
    "import shutil\n",
    "\n",
    "path = '../test_files/pgm/01/01'\n",
    "img_path = '../test_files/pgm/images/'\n",
    "for file in os.listdir(path):\n",
    "    if file[-3:] == '.gz':\n",
    "        with gzip.open(path + '/' + file, 'rb') as f_in:\n",
    "            try:\n",
    "                img = skimage.io.imread(f_in)\n",
    "                plt.imsave(img_path+file[:-3]+'.png', img, cmap='gray', vmax=1000)\n",
    "            except BaseException as e:\n",
    "                print(e)"
   ]
  },
  {
   "cell_type": "code",
   "execution_count": 38,
   "metadata": {},
   "outputs": [],
   "source": [
    "import requests\n",
    "\n",
    "url = 'https://data.phys.ucalgary.ca/sort_by_project/GO-Canada/REGO/stream0/2022/03/01/talo_rego-657/ut01/'\n",
    "r = requests.get(url, allow_redirects=True)"
   ]
  },
  {
   "cell_type": "code",
   "execution_count": 34,
   "metadata": {},
   "outputs": [],
   "source": [
    "pmb_url = 'https://data.phys.ucalgary.ca/sort_by_project/GO-Canada/REGO/stream0/2022/03/01/talo_rego-657/ut01/20220301_0113_talo_rego-657_6300.pgm.gz'\n",
    "r = requests.get(url=pmb_url)\n",
    "\n"
   ]
  },
  {
   "cell_type": "code",
   "execution_count": 41,
   "metadata": {},
   "outputs": [
    {
     "name": "stdout",
     "output_type": "stream",
     "text": [
      "../\n",
      "20220301_0112_talo_rego-657_6300.pgm.gz\n",
      "20220301_0112_talo_rego-657_6300_dark.pgm.gz\n",
      "20220301_0113_talo_rego-657_6300.pgm.gz\n",
      "20220301_0114_talo_rego-657_6300.pgm.gz\n",
      "20220301_0115_talo_rego-657_6300.pgm.gz\n",
      "20220301_0116_talo_rego-657_6300.pgm.gz\n",
      "20220301_0117_talo_rego-657_6300.pgm.gz\n",
      "20220301_0118_talo_rego-657_6300.pgm.gz\n",
      "20220301_0119_talo_rego-657_6300.pgm.gz\n",
      "20220301_0120_talo_rego-657_6300.pgm.gz\n",
      "20220301_0121_talo_rego-657_6300.pgm.gz\n",
      "20220301_0122_talo_rego-657_6300.pgm.gz\n",
      "20220301_0123_talo_rego-657_6300.pgm.gz\n",
      "20220301_0124_talo_rego-657_6300.pgm.gz\n",
      "20220301_0125_talo_rego-657_6300.pgm.gz\n",
      "20220301_0126_talo_rego-657_6300.pgm.gz\n",
      "20220301_0127_talo_rego-657_6300.pgm.gz\n",
      "20220301_0128_talo_rego-657_6300.pgm.gz\n",
      "20220301_0129_talo_rego-657_6300.pgm.gz\n",
      "20220301_0130_talo_rego-657_6300.pgm.gz\n",
      "20220301_0131_talo_rego-657_6300.pgm.gz\n",
      "20220301_0132_talo_rego-657_6300.pgm.gz\n",
      "20220301_0133_talo_rego-657_6300.pgm.gz\n",
      "20220301_0134_talo_rego-657_6300.pgm.gz\n",
      "20220301_0135_talo_rego-657_6300.pgm.gz\n",
      "20220301_0136_talo_rego-657_6300.pgm.gz\n",
      "20220301_0137_talo_rego-657_6300.pgm.gz\n",
      "20220301_0138_talo_rego-657_6300.pgm.gz\n",
      "20220301_0139_talo_rego-657_6300.pgm.gz\n",
      "20220301_0140_talo_rego-657_6300.pgm.gz\n",
      "20220301_0141_talo_rego-657_6300.pgm.gz\n",
      "20220301_0142_talo_rego-657_6300.pgm.gz\n",
      "20220301_0143_talo_rego-657_6300.pgm.gz\n",
      "20220301_0144_talo_rego-657_6300.pgm.gz\n",
      "20220301_0145_talo_rego-657_6300.pgm.gz\n",
      "20220301_0146_talo_rego-657_6300.pgm.gz\n",
      "20220301_0147_talo_rego-657_6300.pgm.gz\n",
      "20220301_0148_talo_rego-657_6300.pgm.gz\n",
      "20220301_0149_talo_rego-657_6300.pgm.gz\n",
      "20220301_0150_talo_rego-657_6300.pgm.gz\n",
      "20220301_0151_talo_rego-657_6300.pgm.gz\n",
      "20220301_0152_talo_rego-657_6300.pgm.gz\n",
      "20220301_0153_talo_rego-657_6300.pgm.gz\n",
      "20220301_0154_talo_rego-657_6300.pgm.gz\n",
      "20220301_0155_talo_rego-657_6300.pgm.gz\n",
      "20220301_0156_talo_rego-657_6300.pgm.gz\n",
      "20220301_0157_talo_rego-657_6300.pgm.gz\n",
      "20220301_0158_talo_rego-657_6300.pgm.gz\n",
      "20220301_0159_talo_rego-657_6300.pgm.gz\n"
     ]
    }
   ],
   "source": [
    "from bs4 import BeautifulSoup\n",
    "\n",
    "soup = BeautifulSoup(r.content, 'html.parser')\n",
    "for link in soup.find_all('a'):\n",
    "    print(link.get('href'))"
   ]
  },
  {
   "cell_type": "code",
   "execution_count": null,
   "metadata": {},
   "outputs": [],
   "source": []
  },
  {
   "cell_type": "code",
   "execution_count": 45,
   "metadata": {},
   "outputs": [
    {
     "data": {
      "text/plain": [
       "'../test_files/auroramax/images/for_testing/'"
      ]
     },
     "execution_count": 45,
     "metadata": {},
     "output_type": "execute_result"
    }
   ],
   "source": [
    "path = '../test_files/auroramax/images/for_testing/ut01/'\n",
    "path[:-5]"
   ]
  },
  {
   "cell_type": "code",
   "execution_count": 46,
   "metadata": {},
   "outputs": [],
   "source": [
    "from PIL import Image\n",
    "import numpy as np\n",
    "\n",
    "img = Image.open(\n",
    "    '../test_files/auroramax/images/for_testing/ut01/20220203_012418_yknf_slr-12_thumb1920x1080.jpg')\n",
    "path = '../test_files/auroramax/images/for_testing/ut01/'\n",
    "for img in os.listdir(path):\n",
    "    img_array = np.array(Image.open(path+img))\n",
    "    img_array = img_array[:,370:1550,:]\n",
    "    #print(img_array.shape)\n",
    "    img_array[-145:,:155,:]=0\n",
    "    img_array[:50,:200,:]=0\n",
    "    img_array[:50,870:,:]=0\n",
    "    img_array[1030:,870:,:]=0\n",
    "    #plt.figure(figsize=(16,9))\n",
    "    #plt.grid(True)\n",
    "    plt.imsave(path[:-5]+img, img_array)"
   ]
  },
  {
   "cell_type": "code",
   "execution_count": null,
   "metadata": {},
   "outputs": [],
   "source": []
  },
  {
   "cell_type": "code",
   "execution_count": null,
   "metadata": {},
   "outputs": [],
   "source": []
  }
 ],
 "metadata": {
  "interpreter": {
   "hash": "6e8a0a6df6bc4132f09ac9e681a95be0b192fb0dd9dafd7229f4bff999d20d12"
  },
  "kernelspec": {
   "display_name": "Python 3.8.10 ('dl_env')",
   "language": "python",
   "name": "python3"
  },
  "language_info": {
   "codemirror_mode": {
    "name": "ipython",
    "version": 3
   },
   "file_extension": ".py",
   "mimetype": "text/x-python",
   "name": "python",
   "nbconvert_exporter": "python",
   "pygments_lexer": "ipython3",
   "version": "3.8.10"
  },
  "orig_nbformat": 4
 },
 "nbformat": 4,
 "nbformat_minor": 2
}
