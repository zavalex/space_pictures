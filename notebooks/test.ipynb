{
 "cells": [
  {
   "cell_type": "code",
   "execution_count": 1,
   "metadata": {},
   "outputs": [],
   "source": [
    "import torch\n",
    "import torch.nn as nn\n",
    "import torch.nn.functional as F\n",
    "from torchvision import models, transforms\n",
    "import sys\n",
    "from fit_preprocess import fit_to_dict\n",
    "import csv\n",
    "import numpy as np\n",
    "from PIL import Image\n",
    "\n",
    "def load_model(PATH):\n",
    "    device = torch.device('cpu')\n",
    "    model = models.efficientnet_b0(pretrained=False)\n",
    "    for param in model.parameters():\n",
    "        param.requires_grad = True\n",
    "    model.classifier = nn.Sequential(\n",
    "        nn.Dropout(p=0.2, inplace=True),\n",
    "        nn.Linear(in_features=1280, out_features=5, bias=True)\n",
    "    )\n",
    "    model.load_state_dict(torch.load(PATH, map_location=device))\n",
    "    return model\n",
    "\n",
    "transformation = transforms.Compose([\n",
    "        transforms.Resize((224, 224)),\n",
    "        transforms.ToTensor(),\n",
    "        transforms.Normalize([0.485, 0.456, 0.406], [0.229, 0.224, 0.225])\n",
    "        ])\n",
    "\n",
    "def eval_model(model, images):\n",
    "    result = {}\n",
    "    model.eval()\n",
    "    with torch.no_grad():\n",
    "        for key, value in images.items():\n",
    "            x_value = transformation(value)\n",
    "            x_value = x_value.to(torch.device('cpu'))\n",
    "            pred = model(x_value)\n",
    "            result[key]=pred\n",
    "    return result"
   ]
  },
  {
   "cell_type": "code",
   "execution_count": 2,
   "metadata": {},
   "outputs": [],
   "source": [
    "MODEL_PATH = '/home/alex/pytorch_test/models/effnetb0.pt'\n",
    "FITS_PATH = '/home/alex/pytorch_test/test_files/fits/'\n",
    "img_dir='/home/alex/pytorch_test/test_files/images/'\n",
    "model = load_model(MODEL_PATH)\n",
    "images = fit_to_dict(FITS_PATH)"
   ]
  },
  {
   "cell_type": "code",
   "execution_count": null,
   "metadata": {},
   "outputs": [],
   "source": [
    "result = eval_model(model, images)\n",
    "print(result)\n",
    "with open('/home/alex/pytorch_test/test_files/mycsvfile.csv', 'w') as f:\n",
    "    w = csv.DictWriter(f, result.keys())\n",
    "    w.writeheader()\n",
    "    w.writerow(result)"
   ]
  }
 ],
 "metadata": {
  "interpreter": {
   "hash": "29ba2c11f9f1f31ece0427755396dca39c291d7c84ea2646a5225a5af2f0085b"
  },
  "kernelspec": {
   "display_name": "Python 3.8.10 ('env': venv)",
   "language": "python",
   "name": "python3"
  },
  "language_info": {
   "codemirror_mode": {
    "name": "ipython",
    "version": 3
   },
   "file_extension": ".py",
   "mimetype": "text/x-python",
   "name": "python",
   "nbconvert_exporter": "python",
   "pygments_lexer": "ipython3",
   "version": "3.8.10"
  },
  "orig_nbformat": 4
 },
 "nbformat": 4,
 "nbformat_minor": 2
}
